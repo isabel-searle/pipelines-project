{
 "cells": [
  {
   "cell_type": "code",
   "execution_count": 1,
   "metadata": {},
   "outputs": [],
   "source": [
    "import requests\n",
    "from bs4 import BeautifulSoup\n",
    "import pandas as pd\n",
    "import json\n",
    "import re"
   ]
  },
  {
   "cell_type": "markdown",
   "metadata": {},
   "source": [
    "# TRIPADVISOR"
   ]
  },
  {
   "cell_type": "code",
   "execution_count": 4,
   "metadata": {},
   "outputs": [],
   "source": [
    "def get_hotel_rating(x):\n",
    "    url = f\"https://www.tripadvisor.com/Hotels-g60750-oa{x}-San_Diego_California-Hotels.html\"\n",
    "    data = requests.get(url)\n",
    "    soup = BeautifulSoup(data.text)\n",
    "    selector=soup.select('.ui_bubble_rating')\n",
    "    data_scraped=[]\n",
    "    rate=[]\n",
    "    hotel=[]\n",
    "    for i in \"\".join(str(selector)).split(\" \"):\n",
    "        if i.startswith('alt='):\n",
    "            rate.append(i.split('\"')[1])\n",
    "        elif i.startswith('href='):\n",
    "            hotel.append(i.split(\"-\")[4])\n",
    "    for i in range(len(hotel)):\n",
    "        hotel_rating = {\"hotel_name\":hotel[i],\"rating\":rate[i]}\n",
    "        data_scraped.append(hotel_rating)  \n",
    "    return data_scraped"
   ]
  },
  {
   "cell_type": "code",
   "execution_count": 5,
   "metadata": {},
   "outputs": [],
   "source": [
    "last_list = [] \n",
    "for i in range(0,480,30):\n",
    "    try:\n",
    "        last_list += get_hotel_rating(i)\n",
    "    except IndexError:\n",
    "        break\n",
    "    "
   ]
  },
  {
   "cell_type": "code",
   "execution_count": 6,
   "metadata": {},
   "outputs": [
    {
     "data": {
      "text/html": [
       "<div>\n",
       "<style scoped>\n",
       "    .dataframe tbody tr th:only-of-type {\n",
       "        vertical-align: middle;\n",
       "    }\n",
       "\n",
       "    .dataframe tbody tr th {\n",
       "        vertical-align: top;\n",
       "    }\n",
       "\n",
       "    .dataframe thead th {\n",
       "        text-align: right;\n",
       "    }\n",
       "</style>\n",
       "<table border=\"1\" class=\"dataframe\">\n",
       "  <thead>\n",
       "    <tr style=\"text-align: right;\">\n",
       "      <th></th>\n",
       "      <th>hotel_name</th>\n",
       "      <th>rating</th>\n",
       "    </tr>\n",
       "  </thead>\n",
       "  <tbody>\n",
       "    <tr>\n",
       "      <th>0</th>\n",
       "      <td>Bahia_Resort_Hotel</td>\n",
       "      <td>4.5</td>\n",
       "    </tr>\n",
       "    <tr>\n",
       "      <th>1</th>\n",
       "      <td>Catamaran_Resort_Hotel_and_Spa</td>\n",
       "      <td>4.5</td>\n",
       "    </tr>\n",
       "    <tr>\n",
       "      <th>2</th>\n",
       "      <td>Pacific_Terrace_Hotel</td>\n",
       "      <td>4.5</td>\n",
       "    </tr>\n",
       "    <tr>\n",
       "      <th>3</th>\n",
       "      <td>Manchester_Grand_Hyatt_San_Diego</td>\n",
       "      <td>4.5</td>\n",
       "    </tr>\n",
       "    <tr>\n",
       "      <th>4</th>\n",
       "      <td>Tower23_Hotel</td>\n",
       "      <td>4.5</td>\n",
       "    </tr>\n",
       "    <tr>\n",
       "      <th>...</th>\n",
       "      <td>...</td>\n",
       "      <td>...</td>\n",
       "    </tr>\n",
       "    <tr>\n",
       "      <th>351</th>\n",
       "      <td>Santa_Fe_Park_RV_Resort</td>\n",
       "      <td>2</td>\n",
       "    </tr>\n",
       "    <tr>\n",
       "      <th>352</th>\n",
       "      <td>RK_Buckner_Hostel</td>\n",
       "      <td>2.5</td>\n",
       "    </tr>\n",
       "    <tr>\n",
       "      <th>353</th>\n",
       "      <td>West_Park_Inn</td>\n",
       "      <td>2</td>\n",
       "    </tr>\n",
       "    <tr>\n",
       "      <th>354</th>\n",
       "      <td>Hostel_Habibi</td>\n",
       "      <td>2.5</td>\n",
       "    </tr>\n",
       "    <tr>\n",
       "      <th>355</th>\n",
       "      <td>San_Diego_Motel</td>\n",
       "      <td>1</td>\n",
       "    </tr>\n",
       "  </tbody>\n",
       "</table>\n",
       "<p>356 rows × 2 columns</p>\n",
       "</div>"
      ],
      "text/plain": [
       "                           hotel_name rating\n",
       "0                  Bahia_Resort_Hotel    4.5\n",
       "1      Catamaran_Resort_Hotel_and_Spa    4.5\n",
       "2               Pacific_Terrace_Hotel    4.5\n",
       "3    Manchester_Grand_Hyatt_San_Diego    4.5\n",
       "4                       Tower23_Hotel    4.5\n",
       "..                                ...    ...\n",
       "351           Santa_Fe_Park_RV_Resort      2\n",
       "352                 RK_Buckner_Hostel    2.5\n",
       "353                     West_Park_Inn      2\n",
       "354                     Hostel_Habibi    2.5\n",
       "355                   San_Diego_Motel      1\n",
       "\n",
       "[356 rows x 2 columns]"
      ]
     },
     "execution_count": 6,
     "metadata": {},
     "output_type": "execute_result"
    }
   ],
   "source": [
    "df_tripadvisor = pd.DataFrame(last_list)\n",
    "df_tripadvisor"
   ]
  },
  {
   "cell_type": "code",
   "execution_count": 7,
   "metadata": {},
   "outputs": [],
   "source": [
    "df_tripadvisor.to_csv(r'hotel_rates_tripadvisor.csv', index = False)"
   ]
  }
 ],
 "metadata": {
  "kernelspec": {
   "display_name": "Python 3",
   "language": "python",
   "name": "python3.8"
  },
  "language_info": {
   "codemirror_mode": {
    "name": "ipython",
    "version": 3
   },
   "file_extension": ".py",
   "mimetype": "text/x-python",
   "name": "python",
   "nbconvert_exporter": "python",
   "pygments_lexer": "ipython3",
   "version": "3.8.6"
  }
 },
 "nbformat": 4,
 "nbformat_minor": 4
}
