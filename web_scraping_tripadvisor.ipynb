{
 "cells": [
  {
   "cell_type": "code",
   "execution_count": 152,
   "metadata": {},
   "outputs": [],
   "source": [
    "import requests\n",
    "from bs4 import BeautifulSoup\n",
    "import pandas as pd\n",
    "import json\n",
    "import re"
   ]
  },
  {
   "cell_type": "markdown",
   "metadata": {},
   "source": [
    "# TRIPADVISOR"
   ]
  },
  {
   "cell_type": "code",
   "execution_count": 253,
   "metadata": {},
   "outputs": [],
   "source": [
    "def get_hotel_rating(x):\n",
    "    url = f\"https://www.tripadvisor.com/Hotels-g60750-oa{x}-San_Diego_California-Hotels.html\"\n",
    "    data = requests.get(url)\n",
    "    soup = BeautifulSoup(data.text)\n",
    "    selector=soup.select('.ui_bubble_rating')\n",
    "    data_scraped=[]\n",
    "    rate=[]\n",
    "    hotel=[]\n",
    "    for i in \"\".join(str(selector)).split(\" \"):\n",
    "        if i.startswith('alt='):\n",
    "            rate.append(i.split('\"')[1])\n",
    "        elif i.startswith('href='):\n",
    "            hotel.append(i.split(\"-\")[4])\n",
    "    for i in range(len(hotels)):\n",
    "        hotel_rating = {\"hotel_name\":hotel[i],\"rating\":rate[i]}\n",
    "        data_scraped.append(hotel_rating)  \n",
    "    return data_scraped"
   ]
  },
  {
   "cell_type": "code",
   "execution_count": 254,
   "metadata": {},
   "outputs": [],
   "source": [
    "last_list = [] \n",
    "for i in range(0,480,30):\n",
    "    try:\n",
    "        last_list += get_hotel_rating(i)\n",
    "    except IndexError:\n",
    "        break\n",
    "    "
   ]
  },
  {
   "cell_type": "code",
   "execution_count": 256,
   "metadata": {},
   "outputs": [
    {
     "data": {
      "text/html": [
       "<div>\n",
       "<style scoped>\n",
       "    .dataframe tbody tr th:only-of-type {\n",
       "        vertical-align: middle;\n",
       "    }\n",
       "\n",
       "    .dataframe tbody tr th {\n",
       "        vertical-align: top;\n",
       "    }\n",
       "\n",
       "    .dataframe thead th {\n",
       "        text-align: right;\n",
       "    }\n",
       "</style>\n",
       "<table border=\"1\" class=\"dataframe\">\n",
       "  <thead>\n",
       "    <tr style=\"text-align: right;\">\n",
       "      <th></th>\n",
       "      <th>hotel_name</th>\n",
       "      <th>rating</th>\n",
       "    </tr>\n",
       "  </thead>\n",
       "  <tbody>\n",
       "    <tr>\n",
       "      <th>0</th>\n",
       "      <td>Bahia_Resort_Hotel</td>\n",
       "      <td>4.5</td>\n",
       "    </tr>\n",
       "    <tr>\n",
       "      <th>1</th>\n",
       "      <td>Catamaran_Resort_Hotel_and_Spa</td>\n",
       "      <td>4.5</td>\n",
       "    </tr>\n",
       "    <tr>\n",
       "      <th>2</th>\n",
       "      <td>Kings_Inn_San_Diego</td>\n",
       "      <td>4.5</td>\n",
       "    </tr>\n",
       "    <tr>\n",
       "      <th>3</th>\n",
       "      <td>Manchester_Grand_Hyatt_San_Diego</td>\n",
       "      <td>4.5</td>\n",
       "    </tr>\n",
       "    <tr>\n",
       "      <th>4</th>\n",
       "      <td>SureStay_Hotel_By_Best_Western_San_Diego_Pacif...</td>\n",
       "      <td>4.5</td>\n",
       "    </tr>\n",
       "    <tr>\n",
       "      <th>...</th>\n",
       "      <td>...</td>\n",
       "      <td>...</td>\n",
       "    </tr>\n",
       "    <tr>\n",
       "      <th>195</th>\n",
       "      <td>Travelodge_by_Wyndham_San_Ysidro</td>\n",
       "      <td>3</td>\n",
       "    </tr>\n",
       "    <tr>\n",
       "      <th>196</th>\n",
       "      <td>Rodeway_Inn_San_Ysidro</td>\n",
       "      <td>2.5</td>\n",
       "    </tr>\n",
       "    <tr>\n",
       "      <th>197</th>\n",
       "      <td>Days_Inn_by_Wyndham_Mission_Valley_Qualcomm_St...</td>\n",
       "      <td>2.5</td>\n",
       "    </tr>\n",
       "    <tr>\n",
       "      <th>198</th>\n",
       "      <td>Sunshine_Suites_at_Little_Italy</td>\n",
       "      <td>2</td>\n",
       "    </tr>\n",
       "    <tr>\n",
       "      <th>199</th>\n",
       "      <td>Ace_Budget_Motel</td>\n",
       "      <td>1</td>\n",
       "    </tr>\n",
       "  </tbody>\n",
       "</table>\n",
       "<p>200 rows × 2 columns</p>\n",
       "</div>"
      ],
      "text/plain": [
       "                                            hotel_name rating\n",
       "0                                   Bahia_Resort_Hotel    4.5\n",
       "1                       Catamaran_Resort_Hotel_and_Spa    4.5\n",
       "2                                  Kings_Inn_San_Diego    4.5\n",
       "3                     Manchester_Grand_Hyatt_San_Diego    4.5\n",
       "4    SureStay_Hotel_By_Best_Western_San_Diego_Pacif...    4.5\n",
       "..                                                 ...    ...\n",
       "195                   Travelodge_by_Wyndham_San_Ysidro      3\n",
       "196                             Rodeway_Inn_San_Ysidro    2.5\n",
       "197  Days_Inn_by_Wyndham_Mission_Valley_Qualcomm_St...    2.5\n",
       "198                    Sunshine_Suites_at_Little_Italy      2\n",
       "199                                   Ace_Budget_Motel      1\n",
       "\n",
       "[200 rows x 2 columns]"
      ]
     },
     "execution_count": 256,
     "metadata": {},
     "output_type": "execute_result"
    }
   ],
   "source": [
    "df_tripadvisor = pd.DataFrame(last_list)\n",
    "df_tripadvisor"
   ]
  }
 ],
 "metadata": {
  "kernelspec": {
   "display_name": "Python 3",
   "language": "python",
   "name": "python3.8"
  },
  "language_info": {
   "codemirror_mode": {
    "name": "ipython",
    "version": 3
   },
   "file_extension": ".py",
   "mimetype": "text/x-python",
   "name": "python",
   "nbconvert_exporter": "python",
   "pygments_lexer": "ipython3",
   "version": "3.8.6"
  }
 },
 "nbformat": 4,
 "nbformat_minor": 4
}
