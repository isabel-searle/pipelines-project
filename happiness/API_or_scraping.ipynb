{
 "cells": [
  {
   "cell_type": "code",
   "execution_count": 1,
   "metadata": {},
   "outputs": [
    {
     "name": "stdout",
     "output_type": "stream",
     "text": [
      "{\"message\":\"You are not subscribed to this API.\"}\n"
     ]
    }
   ],
   "source": [
    "url = \"https://imdb8.p.rapidapi.com/title/get-popular-movies-by-genre\"\n",
    "\n",
    "querystring = {\"genre\":\"/chart/popular/genre/adventure\"}\n",
    "\n",
    "headers = {\n",
    "    'x-rapidapi-key': \"SIGN-UP-FOR-KEY\",\n",
    "    'x-rapidapi-host': \"imdb8.p.rapidapi.com\"\n",
    "    }\n",
    "\n",
    "response = requests.request(\"GET\", url, headers=headers, params=querystring)\n",
    "\n",
    "print(response.text)"
   ]
  },
  {
   "cell_type": "code",
   "execution_count": 3,
   "metadata": {},
   "outputs": [],
   "source": [
    "import requests\n",
    "from bs4 import BeautifulSoup\n",
    "import pandas as pd\n",
    "import json\n",
    "import re"
   ]
  },
  {
   "cell_type": "code",
   "execution_count": 4,
   "metadata": {},
   "outputs": [],
   "source": [
    "data = requests.get ('https://www.tripadvisor.es/Hotels-g35084-Mableton_Georgia-Hotels.html')"
   ]
  },
  {
   "cell_type": "code",
   "execution_count": 5,
   "metadata": {},
   "outputs": [
    {
     "data": {
      "text/plain": [
       "<Response [200]>"
      ]
     },
     "execution_count": 5,
     "metadata": {},
     "output_type": "execute_result"
    }
   ],
   "source": [
    "data"
   ]
  },
  {
   "cell_type": "code",
   "execution_count": 17,
   "metadata": {},
   "outputs": [
    {
     "data": {
      "text/plain": [
       "2"
      ]
     },
     "execution_count": 17,
     "metadata": {},
     "output_type": "execute_result"
    }
   ],
   "source": [
    "soup = BeautifulSoup(data.text)\n",
    "len(soup)"
   ]
  },
  {
   "cell_type": "code",
   "execution_count": 18,
   "metadata": {},
   "outputs": [
    {
     "name": "stdout",
     "output_type": "stream",
     "text": [
      "<!DOCTYPE html>\n",
      "<html lang=\"es\"><head><meta content=\"text/html; charset=utf-8\" http-equiv=\"content-type\"/><link href=\"https://static.tacdn.com/favicon.ico?v2\" id=\"favicon\" rel=\"icon\" type=\"image/x-icon\"/><link color=\"#000000\" href=\"https://static.tacdn.com/img2/brand_refresh/application_icons/mask-icon.svg\" rel=\"mask-icon\" sizes=\"any\"/><meta content=\"#34e0a1\" name=\"theme-color\"/><meta content=\"telephone=no\" name=\"format-detection\"/><script type=\"text/javascript\">window.taRollupsAreAsync = true;<\n"
     ]
    }
   ],
   "source": [
    "print(str(soup)[:500])\n"
   ]
  },
  {
   "cell_type": "code",
   "execution_count": 28,
   "metadata": {},
   "outputs": [
    {
     "data": {
      "text/plain": [
       "'Actualizando lista...\\n\\nEl mejor valoradoBuena relación calidad-precio hoy      Americas Best Value Inn & Suites-Mableton/Atlanta 71\\xa0€61\\xa0€Agoda.comVer ofertaCancelación gratuita Expedia71\\xa0€ZenHotels.comHoteles.com71\\xa0€   56 opinionesN.º 1 de 1 sitio donde alojarse con la mejor relación calidad-precio en MabletonWifi gratuito Aparcamiento gratuito Hemos comparado los precios más bajos de 4 sitios web\\n\\n\\n\\n\\n\\n\\nNo hay otros alojamientos disponibles en Mableton. Consulta a continuación los resultados de alojamientos cercanos.\\n\\n      Knights Inn Atlanta West-Near Six Flags 85\\xa0€ExpediaVer ofertaCancelación gratuitaPágalo en hasta 12 cuotas Agoda.com72\\xa0€ZenHotels.comTrip.com84\\xa0€Ve las 5 ofertas desde 72\\xa0€   47 opinionesA 4,9 km de MabletonN.º 3 de 10 hoteles en AustellWifi gratuito Aparcamiento gratuito Hemos comparado los precios más bajos de 5 sitios web\\nDesayuno incluido      Holiday Inn Express Atlanta West - Theme Park Area 115\\xa0€Agoda.comVer ofertaCancelación gratuitaReserva ahora y paga cuando te alojes Expedia115\\xa0€Trip.com104\\xa0€ZenHotels.comVe las 6 ofertas desde 104\\xa0€   72 opinionesA 5,1 km de MabletonN.º 5 de 13 hoteles en Lithia SpringsWifi gratuito Aparcamiento gratuito Tomando medidas de seguridadHemos comparado los precios más bajos de 6 sitios web\\n      Super 8 by Wyndham Austell/Six Flags 81\\xa0€60\\xa0€Agoda.comVer oferta Expedia61\\xa0€Trip.com81\\xa0€Hoteles.com61\\xa0€Ve las 6 ofertas desde 60\\xa0€   328 opinionesA 5,1 km de MabletonN.º 8 de 10 hoteles en AustellWifi gratuito Aparcamiento gratuito Hemos comparado los precios más bajos de 6 sitios web\\n      Quality Inn & Suites 66\\xa0€Agoda.comVer oferta Expedia72\\xa0€Tripadvisor65\\xa0€ZenHotels.comVe las 7 ofertas desde 65\\xa0€   65 opinionesA 5,1 km de MabletonN.º 6 de 10 hoteles en AustellWifi gratuito Aparcamiento gratuito Hemos comparado los precios más bajos de 7 sitios web\\n\\n      Comfort Inn & Suites Lithia Springs 90\\xa0€Agoda.comVer oferta Expedia90\\xa0€Hoteles.com90\\xa0€Tripadvisor90\\xa0€Ve las 6 ofertas desde 90\\xa0€   252 opinionesA 5,5 km de MabletonN.º 13 de 13 hoteles en Lithia SpringsWifi gratuito Aparcamiento gratuito Hemos comparado los precios más bajos de 6 sitios web\\n      Baymont by Wyndham Lithia Springs Atlanta 76\\xa0€66\\xa0€Agoda.comVer oferta Expedia66\\xa0€Hoteles.com66\\xa0€Trip.com76\\xa0€Ve las 5 ofertas desde 66\\xa0€   367 opinionesA 5,6 km de MabletonN.º 10 de 13 hoteles en Lithia SpringsWifi gratuito Aparcamiento gratuito Hemos comparado los precios más bajos de 5 sitios web\\n      Rodeway Inn at Six Flags 71\\xa0€ExpediaVer ofertaCancelación gratuitaPágalo en hasta 12 cuotas Hoteles.com71\\xa0€Tripadvisor71\\xa0€Agoda.comVe las 7 ofertas desde 71\\xa0€  0 opinionesA 5,6 km de MabletonHemos comparado los precios más bajos de 7 sitios web\\n      Guest Inn 67\\xa0€63\\xa0€Agoda.comVer ofertaCancelación gratuita Expedia67\\xa0€Hoteles.com67\\xa0€Tripadvisor63\\xa0€Ve las 7 ofertas desde 63\\xa0€  Hotel pequeño 4 opinionesA 5,6 km de MabletonN.º 1 de 1 hostal en AustellHemos comparado los precios más bajos de 7 sitios web\\n      Econo Lodge At Six Flags 79\\xa0€Agoda.comVer ofertaCancelación gratuita Expedia79\\xa0€Hoteles.com79\\xa0€Tripadvisor79\\xa0€Ve las 7 ofertas desde 79\\xa0€   107 opinionesA 5,6 km de MabletonN.º 2 de 10 hoteles en AustellWifi gratuito Aparcamiento gratuito Hemos comparado los precios más bajos de 7 sitios web\\n\\n      Home2 Suites by Hilton Atlanta West Lithia Springs 163\\xa0€Agoda.comVer ofertaCancelación gratuitaReserva ahora y paga cuando te alojes Home2.com163\\xa0€Trip.com157\\xa0€Expedia163\\xa0€Ve las 7 ofertas desde 157\\xa0€   114 opinionesA 5,7 km de MabletonN.º 4 de 13 hoteles en Lithia SpringsWifi gratuito Aparcamiento gratuito Tomando medidas de seguridadOferta especialOferta especialOferta de paqueteVisitar sitio web del hotel Hemos comparado los precios más bajos de 7 sitios web\\n      Hilton Garden Inn Atlanta West/Lithia Springs 162\\xa0€Agoda.comVer ofertaCancelación gratuita GardenInn.com162\\xa0€Trip.com146\\xa0€Expedia162\\xa0€Ve las 7 ofertas desde 146\\xa0€   553 opinionesA 5,8 km de MabletonN.º 2 de 13 hoteles en Lithia SpringsWifi gratuito Aparcamiento gratuito Tomando medidas de seguridadOferta especialOferta especialOferta de paqueteVisitar sitio web del hotel Hemos comparado los precios más bajos de 7 sitios web\\n      Hampton Inn & Suites ATL-Six Flags 113\\xa0€Agoda.comVer ofertaCancelación gratuita Hampton.com113\\xa0€Trip.com109\\xa0€Expedia113\\xa0€Ve las 7 ofertas desde 109\\xa0€   526 opinionesA 5,8 km de MabletonN.º 3 de 13 hoteles en Lithia SpringsWifi gratuito Aparcamiento gratuito Tomando medidas de seguridadOferta especialOferta especialOferta de paqueteVisitar sitio web del hotel Hemos comparado los precios más bajos de 7 sitios web\\n      SpringHill Suites by Marriott Atlanta Six Flags 131\\xa0€127\\xa0€Agoda.comVer ofertaCancelación gratuita Expedia127\\xa0€Hoteles.com127\\xa0€Trip.com131\\xa0€Ve las 7 ofertas desde 127\\xa0€   170 opinionesA 6,0 km de MabletonN.º 7 de 13 hoteles en Lithia SpringsWifi gratuito Aparcamiento gratuito Tomando medidas de seguridadOferta especialOferta especialOferta de paqueteVisitar sitio web del hotel Hemos comparado los precios más bajos de 7 sitios web\\n      Courtyard Atlanta Lithia Springs 184\\xa0€143\\xa0€Agoda.comVer oferta Expedia184\\xa0€Hoteles.com184\\xa0€Trip.com147\\xa0€Ve las 7 ofertas desde 143\\xa0€   24 opinionesA 6,0 km de MabletonN.º 6 de 13 hoteles en Lithia SpringsWifi gratuito Aparcamiento gratuito Tomando medidas de seguridadOferta especialOferta especialOferta de paqueteVisitar sitio web del hotel Hemos comparado los precios más bajos de 7 sitios web\\n\\n      Motel 6 Atlanta - Lithia Springs 72\\xa0€ExpediaVer ofertaCancelación gratuitaReserva ahora y paga cuando te alojes Agoda.com72\\xa0€Hoteles.com72\\xa0€Tripadvisor72\\xa0€Ve las 8 ofertas desde 72\\xa0€   33 opinionesA 6,0 km de MabletonN.º 11 de 13 hoteles en Lithia SpringsWifi gratuito Aparcamiento gratuito Hemos comparado los precios más bajos de 8 sitios web\\n      My Place Hotel - ATL West I 20 / Lithia Springs, GA 90\\xa0€Agoda.comVer ofertaCancelación gratuita Expedia90\\xa0€Official Site90\\xa0€Tripadvisor90\\xa0€Ve las 6 ofertas desde 90\\xa0€   143 opinionesA 6,1 km de MabletonN.º 1 de 13 hoteles en Lithia SpringsWifi gratuito Aparcamiento gratuito Visitar sitio web del hotel Hemos comparado los precios más bajos de 6 sitios web\\n      Candlewood Suites Atlanta West I-20 105\\xa0€Agoda.comVer oferta Expedia105\\xa0€Trip.com88\\xa0€Hoteles.com105\\xa0€Ve las 6 ofertas desde 88\\xa0€   52 opinionesA 6,1 km de MabletonN.º 8 de 13 hoteles en Lithia SpringsWifi gratuito Aparcamiento gratuito Tomando medidas de seguridadHemos comparado los precios más bajos de 6 sitios web\\n      Fairfield Inn & Suites Atlanta Lithia Springs 149\\xa0€134\\xa0€Agoda.comVer oferta Expedia149\\xa0€ZenHotels.comHoteles.com149\\xa0€Ve las 7 ofertas desde 134\\xa0€   17 opinionesA 6,2 km de MabletonN.º 9 de 13 hoteles en Lithia SpringsWifi gratuito Aparcamiento gratuito Tomando medidas de seguridadOferta especialOferta especialOferta de paqueteVisitar sitio web del hotel Hemos comparado los precios más bajos de 7 sitios web\\n      Holiday Inn Express & Suites Atlanta NW - Powder Springs 128\\xa0€Agoda.comVer ofertaCancelación gratuita Expedia128\\xa0€Trip.com123\\xa0€Hoteles.com128\\xa0€Ve las 5 ofertas desde 123\\xa0€   89 opinionesA 6,4 km de MabletonN.º 1 de 1 hotel en Powder SpringsWifi gratuito Aparcamiento gratuito Tomando medidas de seguridadHemos comparado los precios más bajos de 5 sitios web\\n\\n      Super Inn 66\\xa0€63\\xa0€ExpediaVer ofertaCancelación gratuitaReserva ahora y paga cuando te alojes Agoda.com66\\xa0€Hoteles.com63\\xa0€Tripadvisor63\\xa0€Ve las 8 ofertas desde 63\\xa0€   13 opinionesA 7,3 km de MabletonN.º 169 de 188 hoteles en AtlantaWifi gratuito Aparcamiento gratuito Hemos comparado los precios más bajos de 8 sitios web\\n      Red Roof Inn Atlanta -Six Flags 60\\xa0€52\\xa0€Agoda.comVer ofertaCancelación gratuita Expedia60\\xa0€Hoteles.com60\\xa0€ZenHotels.comVe las 5 ofertas desde 52\\xa0€   50 opinionesA 7,3 km de MabletonN.º 111 de 188 hoteles en AtlantaWifi gratuito Aparcamiento gratuito Tomando medidas de seguridadHemos comparado los precios más bajos de 5 sitios web\\n      Quality Inn & Suites 94\\xa0€ExpediaVer oferta Agoda.com93\\xa0€ZenHotels.comHoteles.com94\\xa0€Ve las 6 ofertas desde 93\\xa0€   23 opinionesA 7,9 km de MabletonN.º 138 de 188 hoteles en AtlantaWifi gratuito Piscina Hemos comparado los precios más bajos de 6 sitios web\\n      Comfort Inn & Suites 94\\xa0€85\\xa0€Agoda.comVer oferta Expedia94\\xa0€Tripadvisor85\\xa0€ZenHotels.comVe las 7 ofertas desde 85\\xa0€   162 opinionesA 7,9 km de MabletonN.º 7 de 12 hoteles en SmyrnaWifi gratuito Aparcamiento gratuito Hemos comparado los precios más bajos de 7 sitios web\\n      Baymont by Wyndham Smyrna 69\\xa0€ExpediaVer ofertaPágalo en hasta 12 cuotas Agoda.com69\\xa0€Trip.com64\\xa0€ZenHotels.comVe las 5 ofertas desde 64\\xa0€   189 opinionesA 7,9 km de MabletonN.º 10 de 12 hoteles en SmyrnaWifi gratuito Aparcamiento gratuito Hemos comparado los precios más bajos de 5 sitios web\\n\\n      Country Inn & Suites by Radisson, Smyrna, GA 116\\xa0€93\\xa0€Agoda.comVer ofertaCancelación gratuita Expedia109\\xa0€ZenHotels.comTrip.com116\\xa0€Ve las 6 ofertas desde 93\\xa0€   461 opinionesA 8,1 km de MabletonN.º 2 de 12 hoteles en SmyrnaWifi gratuito Aparcamiento gratuito Tomando medidas de seguridadOferta especialPrecio especial25\\xa0% de descuento en el precio de las habitacionesVisitar sitio web del hotel Hemos comparado los precios más bajos de 6 sitios web\\n      La Quinta Inn & Suites by Wyndham Atlanta Ballpark/Galleria 88\\xa0€Agoda.comVer oferta Expedia88\\xa0€Trip.com83\\xa0€Hoteles.com88\\xa0€Ve las 6 ofertas desde 83\\xa0€   809 opinionesA 10,1 km de MabletonN.º 28 de 188 hoteles en AtlantaWifi gratuito Aparcamiento gratuito Hemos comparado los precios más bajos de 6 sitios web\\n      Fairfield Inn & Suites Atlanta Vinings/Galleria 139\\xa0€116\\xa0€Agoda.comVer oferta Expedia135\\xa0€Hoteles.com135\\xa0€Trip.com139\\xa0€Ve las 7 ofertas desde 116\\xa0€   212 opinionesA 10,2 km de MabletonN.º 120 de 188 hoteles en AtlantaWifi gratuito Aparcamiento gratuito Tomando medidas de seguridadOferta especialOferta especialOferta de paqueteVisitar sitio web del hotel Hemos comparado los precios más bajos de 7 sitios web\\n      Extended Stay America - Atlanta - Vinings 100\\xa0€71\\xa0€Agoda.comVer oferta Expedia85\\xa0€ZenHotels.comTrip.com100\\xa0€Ve las 5 ofertas desde 71\\xa0€   109 opinionesA 10,7 km de MabletonN.º 132 de 188 hoteles en AtlantaWifi gratuito Gimnasio Oferta especialOferta especialHaz clic aquí para obtener más informaciónVisitar sitio web del hotel Hemos comparado los precios más bajos de 5 sitios web\\n      Hotel Indigo Atlanta – Vinings 168\\xa0€Agoda.comVer oferta Expedia168\\xa0€Trip.com147\\xa0€Hoteles.com168\\xa0€Ve las 5 ofertas desde 147\\xa0€   217 opinionesA 11,2 km de MabletonN.º 91 de 188 hoteles en AtlantaWifi gratuito Aparcamiento gratuito Tomando medidas de seguridadHemos comparado los precios más bajos de 5 sitios web\\n\\n* Los precios los proporcionan nuestros socios y en ellos se refleja la tarifa por habitación y noche, incluidos todos los impuestos y tasas puestos en su conocimiento. Dirígete a nuestros socios para conocer más detalles. Preguntas frecuentes sobre los hoteles en Mableton¿Cuáles son los mejores hoteles cerca de Heritage Park?Americas Best Value Inn & Suites-Mableton/Atlanta, Comfort Inn & Suites y Country Inn & Suites by Radisson, Smyrna, GA son algunos de los hoteles más populares para los viajeros que quieren alojarse cerca de Heritage Park. Consulta la lista completa: Hoteles cerca de Heritage Park.¿Qué aeropuertos son los más cercanos a Aeropuerto Internacional de Atlanta?Entre los hoteles populares cercanos a Aeropuerto Internacional de Atlanta se incluyen Renaissance Concourse Atlanta Airport Hotel, La Quinta Inn & Suites by Wyndham Atlanta Airport North y Drury Inn & Suites Atlanta Airport. Consulta la lista completa: Hoteles cerca del (ATL) Aeropuerto Internacional de Atlanta.'"
      ]
     },
     "execution_count": 28,
     "metadata": {},
     "output_type": "execute_result"
    }
   ],
   "source": [
    "selector=soup.select('.relWrap')\n",
    "selector[0].text"
   ]
  },
  {
   "cell_type": "code",
   "execution_count": null,
   "metadata": {},
   "outputs": [],
   "source": []
  }
 ],
 "metadata": {
  "kernelspec": {
   "display_name": "Python 3",
   "language": "python",
   "name": "python3.8"
  },
  "language_info": {
   "codemirror_mode": {
    "name": "ipython",
    "version": 3
   },
   "file_extension": ".py",
   "mimetype": "text/x-python",
   "name": "python",
   "nbconvert_exporter": "python",
   "pygments_lexer": "ipython3",
   "version": "3.8.6"
  }
 },
 "nbformat": 4,
 "nbformat_minor": 4
}
