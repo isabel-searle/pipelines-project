{
 "cells": [
  {
   "cell_type": "code",
   "execution_count": 2,
   "metadata": {},
   "outputs": [],
   "source": [
    "import requests\n",
    "from bs4 import BeautifulSoup\n",
    "import pandas as pd\n",
    "import json\n",
    "import re"
   ]
  },
  {
   "cell_type": "markdown",
   "metadata": {},
   "source": [
    "# BOOKING"
   ]
  },
  {
   "cell_type": "code",
   "execution_count": 3,
   "metadata": {},
   "outputs": [],
   "source": [
    "def get_hotel_rating(x):\n",
    "    url = f\"https://www.booking.com/searchresults.en-gb.html?aid=356980&label=gog235jc-1FCAMo7AE48gNIM1gDaEaIAQGYAQm4AQfIAQzYAQHoAQH4AQyIAgGoAgO4AoX7of0FwAIB0gIkZTM0NTE3ZmYtYmY5OC00ODI5LWI3ODYtNjZmNTYzODZiYTVk2AIG4AIB&sid=79a310e0bfb6ef99a0f3f732838bf8e4&tmpl=searchresults&class_interval=1&dest_id=20015725&dest_type=city&dtdisc=0&inac=0&index_postcard=0&label_click=undef&order=bayesian_review_score&postcard=0&raw_dest_type=city&room1=A%2CA&sb_price_type=total&shw_aparth=1&slp_r_match=0&srpvid=d608a46757aa0032&ss_all=0&ssb=empty&sshis=0&top_ufis=1&rows=25&offset={x}\"\n",
    "    data = requests.get(url)\n",
    "    soup = BeautifulSoup(data.text)\n",
    "    rate = soup.select('.bui-review-score__badge')\n",
    "    hotel = soup.select('.sr-hotel__name')\n",
    "    data_scraped=[]\n",
    "    hotels=[i.text.strip() for i in hotel]\n",
    "    rates=[i.text for i in rate]\n",
    "    for i in range(len(hotels)):\n",
    "        hotel_rating = {\"hotel_name\":hotels[i],\"rating\":rates[i]}\n",
    "        data_scraped.append(hotel_rating)   \n",
    "    return data_scraped"
   ]
  },
  {
   "cell_type": "code",
   "execution_count": 4,
   "metadata": {},
   "outputs": [],
   "source": [
    "last_list = [] \n",
    "for i in range(0,975,25):\n",
    "    try:\n",
    "        last_list += get_hotel_rating(i)\n",
    "    except IndexError:\n",
    "        break"
   ]
  },
  {
   "cell_type": "code",
   "execution_count": 5,
   "metadata": {},
   "outputs": [
    {
     "data": {
      "text/html": [
       "<div>\n",
       "<style scoped>\n",
       "    .dataframe tbody tr th:only-of-type {\n",
       "        vertical-align: middle;\n",
       "    }\n",
       "\n",
       "    .dataframe tbody tr th {\n",
       "        vertical-align: top;\n",
       "    }\n",
       "\n",
       "    .dataframe thead th {\n",
       "        text-align: right;\n",
       "    }\n",
       "</style>\n",
       "<table border=\"1\" class=\"dataframe\">\n",
       "  <thead>\n",
       "    <tr style=\"text-align: right;\">\n",
       "      <th></th>\n",
       "      <th>hotel_name</th>\n",
       "      <th>rating</th>\n",
       "    </tr>\n",
       "  </thead>\n",
       "  <tbody>\n",
       "    <tr>\n",
       "      <th>0</th>\n",
       "      <td>Manchester Grand Hyatt San Diego</td>\n",
       "      <td>8.7</td>\n",
       "    </tr>\n",
       "    <tr>\n",
       "      <th>1</th>\n",
       "      <td>Hotel Indigo San Diego - Gaslamp Quarter</td>\n",
       "      <td>8.6</td>\n",
       "    </tr>\n",
       "    <tr>\n",
       "      <th>2</th>\n",
       "      <td>Paradise Point Resort &amp; Spa</td>\n",
       "      <td>8.2</td>\n",
       "    </tr>\n",
       "    <tr>\n",
       "      <th>3</th>\n",
       "      <td>Omni San Diego Hotel</td>\n",
       "      <td>8.9</td>\n",
       "    </tr>\n",
       "    <tr>\n",
       "      <th>4</th>\n",
       "      <td>Hilton Garden Inn San Diego Mission Valley/Sta...</td>\n",
       "      <td>8.0</td>\n",
       "    </tr>\n",
       "    <tr>\n",
       "      <th>...</th>\n",
       "      <td>...</td>\n",
       "      <td>...</td>\n",
       "    </tr>\n",
       "    <tr>\n",
       "      <th>970</th>\n",
       "      <td>Solamar San Diego</td>\n",
       "      <td>8.4</td>\n",
       "    </tr>\n",
       "    <tr>\n",
       "      <th>971</th>\n",
       "      <td>Baymont by Wyndham San Diego Downtown</td>\n",
       "      <td>7.7</td>\n",
       "    </tr>\n",
       "    <tr>\n",
       "      <th>972</th>\n",
       "      <td>Andaz San Diego - a Concept by Hyatt</td>\n",
       "      <td>8.9</td>\n",
       "    </tr>\n",
       "    <tr>\n",
       "      <th>973</th>\n",
       "      <td>Hampton Inn San Diego Mission Valley</td>\n",
       "      <td>8.3</td>\n",
       "    </tr>\n",
       "    <tr>\n",
       "      <th>974</th>\n",
       "      <td>San Diego Marriott Gaslamp Quarter</td>\n",
       "      <td>8.3</td>\n",
       "    </tr>\n",
       "  </tbody>\n",
       "</table>\n",
       "<p>975 rows × 2 columns</p>\n",
       "</div>"
      ],
      "text/plain": [
       "                                            hotel_name rating\n",
       "0                     Manchester Grand Hyatt San Diego   8.7 \n",
       "1             Hotel Indigo San Diego - Gaslamp Quarter   8.6 \n",
       "2                          Paradise Point Resort & Spa   8.2 \n",
       "3                                 Omni San Diego Hotel   8.9 \n",
       "4    Hilton Garden Inn San Diego Mission Valley/Sta...   8.0 \n",
       "..                                                 ...    ...\n",
       "970                                  Solamar San Diego   8.4 \n",
       "971              Baymont by Wyndham San Diego Downtown   7.7 \n",
       "972               Andaz San Diego - a Concept by Hyatt   8.9 \n",
       "973               Hampton Inn San Diego Mission Valley   8.3 \n",
       "974                 San Diego Marriott Gaslamp Quarter   8.3 \n",
       "\n",
       "[975 rows x 2 columns]"
      ]
     },
     "execution_count": 5,
     "metadata": {},
     "output_type": "execute_result"
    }
   ],
   "source": [
    "df_booking = pd.DataFrame(last_list)\n",
    "df_booking"
   ]
  },
  {
   "cell_type": "code",
   "execution_count": 6,
   "metadata": {},
   "outputs": [],
   "source": [
    "df_booking.to_csv(r'hotel_rates_booking.csv', index = False)"
   ]
  }
 ],
 "metadata": {
  "kernelspec": {
   "display_name": "Python 3",
   "language": "python",
   "name": "python3.8"
  },
  "language_info": {
   "codemirror_mode": {
    "name": "ipython",
    "version": 3
   },
   "file_extension": ".py",
   "mimetype": "text/x-python",
   "name": "python",
   "nbconvert_exporter": "python",
   "pygments_lexer": "ipython3",
   "version": "3.8.6"
  }
 },
 "nbformat": 4,
 "nbformat_minor": 4
}
